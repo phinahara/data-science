{
 "cells": [
  {
   "cell_type": "code",
   "execution_count": 1,
   "id": "6d249c86-89e6-4dd7-b2d8-264d60c2771a",
   "metadata": {},
   "outputs": [
    {
     "name": "stdout",
     "output_type": "stream",
     "text": [
      "Collecting pytrends\n",
      "  Downloading pytrends-4.7.3-py3-none-any.whl (14 kB)\n",
      "Requirement already satisfied: pandas>=0.25 in /opt/conda/lib/python3.9/site-packages (from pytrends) (1.2.4)\n",
      "Requirement already satisfied: requests in /opt/conda/lib/python3.9/site-packages (from pytrends) (2.25.1)\n",
      "Collecting lxml\n",
      "  Downloading lxml-4.6.3-cp39-cp39-manylinux2014_x86_64.whl (6.9 MB)\n",
      "\u001b[K     |████████████████████████████████| 6.9 MB 25.0 MB/s eta 0:00:01\n",
      "\u001b[?25hRequirement already satisfied: python-dateutil>=2.7.3 in /opt/conda/lib/python3.9/site-packages (from pandas>=0.25->pytrends) (2.8.1)\n",
      "Requirement already satisfied: pytz>=2017.3 in /opt/conda/lib/python3.9/site-packages (from pandas>=0.25->pytrends) (2021.1)\n",
      "Requirement already satisfied: numpy>=1.16.5 in /opt/conda/lib/python3.9/site-packages (from pandas>=0.25->pytrends) (1.20.2)\n",
      "Requirement already satisfied: six>=1.5 in /opt/conda/lib/python3.9/site-packages (from python-dateutil>=2.7.3->pandas>=0.25->pytrends) (1.16.0)\n",
      "Requirement already satisfied: urllib3<1.27,>=1.21.1 in /opt/conda/lib/python3.9/site-packages (from requests->pytrends) (1.26.4)\n",
      "Requirement already satisfied: idna<3,>=2.5 in /opt/conda/lib/python3.9/site-packages (from requests->pytrends) (2.10)\n",
      "Requirement already satisfied: certifi>=2017.4.17 in /opt/conda/lib/python3.9/site-packages (from requests->pytrends) (2020.12.5)\n",
      "Requirement already satisfied: chardet<5,>=3.0.2 in /opt/conda/lib/python3.9/site-packages (from requests->pytrends) (4.0.0)\n",
      "Installing collected packages: lxml, pytrends\n",
      "Successfully installed lxml-4.6.3 pytrends-4.7.3\n"
     ]
    }
   ],
   "source": [
    "!pip install pytrends"
   ]
  },
  {
   "cell_type": "code",
   "execution_count": 2,
   "id": "8946b846-3654-4293-908f-87893586774a",
   "metadata": {},
   "outputs": [],
   "source": [
    "from pytrends.request import TrendReq\n",
    "pytrends = TrendReq(hl='en-US', tz=360)\n"
   ]
  },
  {
   "cell_type": "code",
   "execution_count": 41,
   "id": "ad0deea1-ea62-4268-b3ab-a1ea2aa80079",
   "metadata": {},
   "outputs": [
    {
     "name": "stdout",
     "output_type": "stream",
     "text": [
      "The request failed: Google returned a response with code 500.\n"
     ]
    }
   ],
   "source": [
    "kw_list = [\"binance deposit\", \"binance withdraw\"]\n",
    "a=pytrends.get_historical_interest(kw_list, year_start=2021, month_start=1, day_start=1, hour_start=0, year_end=2021, month_end=5, day_end=24, hour_end=0, cat=0, geo='', gprop='', sleep=0)\n"
   ]
  },
  {
   "cell_type": "code",
   "execution_count": 42,
   "id": "b04b557b-1c2d-4189-9d14-c0ebf6652842",
   "metadata": {},
   "outputs": [
    {
     "data": {
      "text/html": [
       "<div>\n",
       "<style scoped>\n",
       "    .dataframe tbody tr th:only-of-type {\n",
       "        vertical-align: middle;\n",
       "    }\n",
       "\n",
       "    .dataframe tbody tr th {\n",
       "        vertical-align: top;\n",
       "    }\n",
       "\n",
       "    .dataframe thead th {\n",
       "        text-align: right;\n",
       "    }\n",
       "</style>\n",
       "<table border=\"1\" class=\"dataframe\">\n",
       "  <thead>\n",
       "    <tr style=\"text-align: right;\">\n",
       "      <th></th>\n",
       "      <th>binance deposit</th>\n",
       "      <th>binance withdraw</th>\n",
       "      <th>isPartial</th>\n",
       "    </tr>\n",
       "    <tr>\n",
       "      <th>date</th>\n",
       "      <th></th>\n",
       "      <th></th>\n",
       "      <th></th>\n",
       "    </tr>\n",
       "  </thead>\n",
       "  <tbody>\n",
       "    <tr>\n",
       "      <th>2021-01-01 00:00:00</th>\n",
       "      <td>8</td>\n",
       "      <td>17</td>\n",
       "      <td>False</td>\n",
       "    </tr>\n",
       "    <tr>\n",
       "      <th>2021-01-01 01:00:00</th>\n",
       "      <td>19</td>\n",
       "      <td>16</td>\n",
       "      <td>False</td>\n",
       "    </tr>\n",
       "    <tr>\n",
       "      <th>2021-01-01 02:00:00</th>\n",
       "      <td>18</td>\n",
       "      <td>11</td>\n",
       "      <td>False</td>\n",
       "    </tr>\n",
       "    <tr>\n",
       "      <th>2021-01-01 03:00:00</th>\n",
       "      <td>14</td>\n",
       "      <td>10</td>\n",
       "      <td>False</td>\n",
       "    </tr>\n",
       "    <tr>\n",
       "      <th>2021-01-01 04:00:00</th>\n",
       "      <td>19</td>\n",
       "      <td>24</td>\n",
       "      <td>False</td>\n",
       "    </tr>\n",
       "    <tr>\n",
       "      <th>...</th>\n",
       "      <td>...</td>\n",
       "      <td>...</td>\n",
       "      <td>...</td>\n",
       "    </tr>\n",
       "    <tr>\n",
       "      <th>2021-05-23 20:00:00</th>\n",
       "      <td>52</td>\n",
       "      <td>61</td>\n",
       "      <td>False</td>\n",
       "    </tr>\n",
       "    <tr>\n",
       "      <th>2021-05-23 21:00:00</th>\n",
       "      <td>50</td>\n",
       "      <td>60</td>\n",
       "      <td>False</td>\n",
       "    </tr>\n",
       "    <tr>\n",
       "      <th>2021-05-23 22:00:00</th>\n",
       "      <td>60</td>\n",
       "      <td>59</td>\n",
       "      <td>False</td>\n",
       "    </tr>\n",
       "    <tr>\n",
       "      <th>2021-05-23 23:00:00</th>\n",
       "      <td>44</td>\n",
       "      <td>60</td>\n",
       "      <td>False</td>\n",
       "    </tr>\n",
       "    <tr>\n",
       "      <th>2021-05-24 00:00:00</th>\n",
       "      <td>44</td>\n",
       "      <td>65</td>\n",
       "      <td>False</td>\n",
       "    </tr>\n",
       "  </tbody>\n",
       "</table>\n",
       "<p>3284 rows × 3 columns</p>\n",
       "</div>"
      ],
      "text/plain": [
       "                     binance deposit  binance withdraw isPartial\n",
       "date                                                            \n",
       "2021-01-01 00:00:00                8                17     False\n",
       "2021-01-01 01:00:00               19                16     False\n",
       "2021-01-01 02:00:00               18                11     False\n",
       "2021-01-01 03:00:00               14                10     False\n",
       "2021-01-01 04:00:00               19                24     False\n",
       "...                              ...               ...       ...\n",
       "2021-05-23 20:00:00               52                61     False\n",
       "2021-05-23 21:00:00               50                60     False\n",
       "2021-05-23 22:00:00               60                59     False\n",
       "2021-05-23 23:00:00               44                60     False\n",
       "2021-05-24 00:00:00               44                65     False\n",
       "\n",
       "[3284 rows x 3 columns]"
      ]
     },
     "execution_count": 42,
     "metadata": {},
     "output_type": "execute_result"
    }
   ],
   "source": [
    "a"
   ]
  },
  {
   "cell_type": "code",
   "execution_count": 12,
   "id": "5865f76e-506b-4c05-8555-5863dfb09ae9",
   "metadata": {},
   "outputs": [
    {
     "data": {
      "text/html": [
       "<div>\n",
       "<style scoped>\n",
       "    .dataframe tbody tr th:only-of-type {\n",
       "        vertical-align: middle;\n",
       "    }\n",
       "\n",
       "    .dataframe tbody tr th {\n",
       "        vertical-align: top;\n",
       "    }\n",
       "\n",
       "    .dataframe thead th {\n",
       "        text-align: right;\n",
       "    }\n",
       "</style>\n",
       "<table border=\"1\" class=\"dataframe\">\n",
       "  <thead>\n",
       "    <tr style=\"text-align: right;\">\n",
       "      <th></th>\n",
       "      <th>binance deposit</th>\n",
       "      <th>binance widthdraw</th>\n",
       "      <th>isPartial</th>\n",
       "    </tr>\n",
       "    <tr>\n",
       "      <th>date</th>\n",
       "      <th></th>\n",
       "      <th></th>\n",
       "      <th></th>\n",
       "    </tr>\n",
       "  </thead>\n",
       "  <tbody>\n",
       "    <tr>\n",
       "      <th>2021-01-01 00:00:00</th>\n",
       "      <td>10</td>\n",
       "      <td>0</td>\n",
       "      <td>False</td>\n",
       "    </tr>\n",
       "    <tr>\n",
       "      <th>2021-01-01 01:00:00</th>\n",
       "      <td>27</td>\n",
       "      <td>0</td>\n",
       "      <td>False</td>\n",
       "    </tr>\n",
       "    <tr>\n",
       "      <th>2021-01-01 02:00:00</th>\n",
       "      <td>30</td>\n",
       "      <td>0</td>\n",
       "      <td>False</td>\n",
       "    </tr>\n",
       "    <tr>\n",
       "      <th>2021-01-01 03:00:00</th>\n",
       "      <td>22</td>\n",
       "      <td>0</td>\n",
       "      <td>False</td>\n",
       "    </tr>\n",
       "    <tr>\n",
       "      <th>2021-01-01 04:00:00</th>\n",
       "      <td>30</td>\n",
       "      <td>0</td>\n",
       "      <td>False</td>\n",
       "    </tr>\n",
       "    <tr>\n",
       "      <th>...</th>\n",
       "      <td>...</td>\n",
       "      <td>...</td>\n",
       "      <td>...</td>\n",
       "    </tr>\n",
       "    <tr>\n",
       "      <th>2021-05-23 20:00:00</th>\n",
       "      <td>51</td>\n",
       "      <td>0</td>\n",
       "      <td>False</td>\n",
       "    </tr>\n",
       "    <tr>\n",
       "      <th>2021-05-23 21:00:00</th>\n",
       "      <td>51</td>\n",
       "      <td>0</td>\n",
       "      <td>False</td>\n",
       "    </tr>\n",
       "    <tr>\n",
       "      <th>2021-05-23 22:00:00</th>\n",
       "      <td>60</td>\n",
       "      <td>0</td>\n",
       "      <td>False</td>\n",
       "    </tr>\n",
       "    <tr>\n",
       "      <th>2021-05-23 23:00:00</th>\n",
       "      <td>43</td>\n",
       "      <td>0</td>\n",
       "      <td>False</td>\n",
       "    </tr>\n",
       "    <tr>\n",
       "      <th>2021-05-24 00:00:00</th>\n",
       "      <td>42</td>\n",
       "      <td>0</td>\n",
       "      <td>False</td>\n",
       "    </tr>\n",
       "  </tbody>\n",
       "</table>\n",
       "<p>3284 rows × 3 columns</p>\n",
       "</div>"
      ],
      "text/plain": [
       "                     binance deposit  binance widthdraw isPartial\n",
       "date                                                             \n",
       "2021-01-01 00:00:00               10                  0     False\n",
       "2021-01-01 01:00:00               27                  0     False\n",
       "2021-01-01 02:00:00               30                  0     False\n",
       "2021-01-01 03:00:00               22                  0     False\n",
       "2021-01-01 04:00:00               30                  0     False\n",
       "...                              ...                ...       ...\n",
       "2021-05-23 20:00:00               51                  0     False\n",
       "2021-05-23 21:00:00               51                  0     False\n",
       "2021-05-23 22:00:00               60                  0     False\n",
       "2021-05-23 23:00:00               43                  0     False\n",
       "2021-05-24 00:00:00               42                  0     False\n",
       "\n",
       "[3284 rows x 3 columns]"
      ]
     },
     "execution_count": 12,
     "metadata": {},
     "output_type": "execute_result"
    }
   ],
   "source": [
    "a"
   ]
  },
  {
   "cell_type": "code",
   "execution_count": 17,
   "id": "e86a0b39-cba5-479f-b2e8-ed0674d9abd9",
   "metadata": {},
   "outputs": [
    {
     "data": {
      "text/plain": [
       "date\n",
       "2021-01-01 00:00:00    10\n",
       "2021-01-01 01:00:00    27\n",
       "2021-01-01 02:00:00    30\n",
       "2021-01-01 03:00:00    22\n",
       "2021-01-01 04:00:00    30\n",
       "                       ..\n",
       "2021-05-23 20:00:00    51\n",
       "2021-05-23 21:00:00    51\n",
       "2021-05-23 22:00:00    60\n",
       "2021-05-23 23:00:00    43\n",
       "2021-05-24 00:00:00    42\n",
       "Name: binance deposit, Length: 3284, dtype: int64"
      ]
     },
     "execution_count": 17,
     "metadata": {},
     "output_type": "execute_result"
    }
   ],
   "source": [
    "a[\"binance deposit\"]"
   ]
  },
  {
   "cell_type": "code",
   "execution_count": 19,
   "id": "e480a174-b8c5-4e68-8744-cbfb61597f39",
   "metadata": {},
   "outputs": [],
   "source": [
    "a.loc[\"2021-01-01 00:00:00\"]"
   ]
  },
  {
   "cell_type": "code",
   "execution_count": 32,
   "id": "a2155f78-3afe-4d3b-be4a-1fcb4b76e053",
   "metadata": {},
   "outputs": [
    {
     "data": {
      "text/plain": [
       "date\n",
       "2021-01-01 00:00:00    10\n",
       "2021-01-01 01:00:00    27\n",
       "2021-01-01 02:00:00    30\n",
       "2021-01-01 03:00:00    22\n",
       "2021-01-01 04:00:00    30\n",
       "                       ..\n",
       "2021-05-23 20:00:00    51\n",
       "2021-05-23 21:00:00    51\n",
       "2021-05-23 22:00:00    60\n",
       "2021-05-23 23:00:00    43\n",
       "2021-05-24 00:00:00    42\n",
       "Name: binance deposit, Length: 3284, dtype: int64"
      ]
     },
     "execution_count": 32,
     "metadata": {},
     "output_type": "execute_result"
    }
   ],
   "source": [
    "a[\"binance deposit\"]"
   ]
  },
  {
   "cell_type": "code",
   "execution_count": 33,
   "id": "938e887d-1bc8-4ea9-96f6-836c073cba7c",
   "metadata": {},
   "outputs": [
    {
     "name": "stdout",
     "output_type": "stream",
     "text": [
      "binance deposit\n",
      "binance widthdraw\n",
      "isPartial\n"
     ]
    }
   ],
   "source": [
    "for col in a.columns:\n",
    "    print(col)"
   ]
  },
  {
   "cell_type": "code",
   "execution_count": 34,
   "id": "cdf4df23-7438-4574-8329-eec38b98fce2",
   "metadata": {},
   "outputs": [
    {
     "data": {
      "text/plain": [
       "<bound method NDFrame.head of                      binance deposit  binance widthdraw isPartial\n",
       "date                                                             \n",
       "2021-01-01 00:00:00               10                  0     False\n",
       "2021-01-01 01:00:00               27                  0     False\n",
       "2021-01-01 02:00:00               30                  0     False\n",
       "2021-01-01 03:00:00               22                  0     False\n",
       "2021-01-01 04:00:00               30                  0     False\n",
       "...                              ...                ...       ...\n",
       "2021-05-23 20:00:00               51                  0     False\n",
       "2021-05-23 21:00:00               51                  0     False\n",
       "2021-05-23 22:00:00               60                  0     False\n",
       "2021-05-23 23:00:00               43                  0     False\n",
       "2021-05-24 00:00:00               42                  0     False\n",
       "\n",
       "[3284 rows x 3 columns]>"
      ]
     },
     "execution_count": 34,
     "metadata": {},
     "output_type": "execute_result"
    }
   ],
   "source": [
    "a.head\n"
   ]
  },
  {
   "cell_type": "code",
   "execution_count": 44,
   "id": "7192ee35-a4b5-4513-81ac-5d5911173d8e",
   "metadata": {},
   "outputs": [
    {
     "data": {
      "text/plain": [
       "<AxesSubplot:xlabel='date'>"
      ]
     },
     "execution_count": 44,
     "metadata": {},
     "output_type": "execute_result"
    },
    {
     "data": {
      "image/png": "[encoded data removed]",
      "text/plain": [
       "<Figure size 432x288 with 1 Axes>"
      ]
     },
     "metadata": {
      "needs_background": "light"
     },
     "output_type": "display_data"
    }
   ],
   "source": [
    "a.plot(y=[\"binance deposit\", \"binance withdraw\"])"
   ]
  },
  {
   "cell_type": "code",
   "execution_count": null,
   "id": "4e901fb2-219f-4cb0-842e-eeb5340dc5ac",
   "metadata": {},
   "outputs": [],
   "source": []
  }
 ],
 "metadata": {
  "kernelspec": {
   "display_name": "Python 3",
   "language": "python",
   "name": "python3"
  },
  "language_info": {
   "codemirror_mode": {
    "name": "ipython",
    "version": 3
   },
   "file_extension": ".py",
   "mimetype": "text/x-python",
   "name": "python",
   "nbconvert_exporter": "python",
   "pygments_lexer": "ipython3",
   "version": "3.9.2"
  }
 },
 "nbformat": 4,
 "nbformat_minor": 5
}
